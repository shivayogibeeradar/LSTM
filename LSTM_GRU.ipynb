{
  "nbformat": 4,
  "nbformat_minor": 0,
  "metadata": {
    "colab": {
      "name": "LSTM-GRU",
      "provenance": [],
      "collapsed_sections": [],
      "machine_shape": "hm"
    },
    "kernelspec": {
      "name": "python3",
      "display_name": "Python 3"
    },
    "accelerator": "GPU"
  },
  "cells": [
    {
      "cell_type": "code",
      "metadata": {
        "id": "v72EIwepM7w7",
        "colab_type": "code",
        "colab": {}
      },
      "source": [
        "from google.colab import drive\n",
        "drive.mount('/content/drive')"
      ],
      "execution_count": 0,
      "outputs": []
    },
    {
      "cell_type": "code",
      "metadata": {
        "id": "do7CCSEoNKnk",
        "colab_type": "code",
        "colab": {}
      },
      "source": [
        "! unzip /content/drive/My\\ Drive/glove.6B.zip"
      ],
      "execution_count": 0,
      "outputs": []
    },
    {
      "cell_type": "code",
      "metadata": {
        "id": "pOfPULV2KnWr",
        "colab_type": "code",
        "colab": {}
      },
      "source": [
        "import pandas as pd\n",
        "import io\n",
        "import requests\n",
        "\n",
        "url=\"https://raw.githubusercontent.com/WillKoehrsen/recurrent-neural-networks/master/data/neural_network_patent_query.csv\"\n",
        "s=requests.get(url).content\n",
        "data=pd.read_csv(io.StringIO(s.decode('utf-8')))"
      ],
      "execution_count": 0,
      "outputs": []
    },
    {
      "cell_type": "code",
      "metadata": {
        "id": "Gmky7-mTLAfX",
        "colab_type": "code",
        "outputId": "b2db82a2-d6a4-415f-80f9-09322ccff40e",
        "colab": {
          "base_uri": "https://localhost:8080/",
          "height": 204
        }
      },
      "source": [
        "original_abstracts = list(data['patent_abstract'])\n",
        "len(original_abstracts)\n",
        "\n",
        "data.head()"
      ],
      "execution_count": 2,
      "outputs": [
        {
          "output_type": "execute_result",
          "data": {
            "text/html": [
              "<div>\n",
              "<style scoped>\n",
              "    .dataframe tbody tr th:only-of-type {\n",
              "        vertical-align: middle;\n",
              "    }\n",
              "\n",
              "    .dataframe tbody tr th {\n",
              "        vertical-align: top;\n",
              "    }\n",
              "\n",
              "    .dataframe thead th {\n",
              "        text-align: right;\n",
              "    }\n",
              "</style>\n",
              "<table border=\"1\" class=\"dataframe\">\n",
              "  <thead>\n",
              "    <tr style=\"text-align: right;\">\n",
              "      <th></th>\n",
              "      <th>patent_abstract</th>\n",
              "      <th>patent_date</th>\n",
              "      <th>patent_number</th>\n",
              "      <th>patent_title</th>\n",
              "    </tr>\n",
              "  </thead>\n",
              "  <tbody>\n",
              "    <tr>\n",
              "      <th>0</th>\n",
              "      <td>\" A \"\"Barometer\"\" Neuron enhances stability in...</td>\n",
              "      <td>1996-07-09</td>\n",
              "      <td>5535303</td>\n",
              "      <td>\"\"\"Barometer\"\" neuron for a neural network\"</td>\n",
              "    </tr>\n",
              "    <tr>\n",
              "      <th>1</th>\n",
              "      <td>\" This invention is a novel high-speed neural ...</td>\n",
              "      <td>1993-10-19</td>\n",
              "      <td>5255349</td>\n",
              "      <td>\"Electronic neural network for solving \"\"trave...</td>\n",
              "    </tr>\n",
              "    <tr>\n",
              "      <th>2</th>\n",
              "      <td>An optical information processor for use as a ...</td>\n",
              "      <td>1995-01-17</td>\n",
              "      <td>5383042</td>\n",
              "      <td>3 layer liquid crystal neural network with out...</td>\n",
              "    </tr>\n",
              "    <tr>\n",
              "      <th>3</th>\n",
              "      <td>A method and system for intelligent control of...</td>\n",
              "      <td>2001-01-02</td>\n",
              "      <td>6169981</td>\n",
              "      <td>3-brain architecture for an intelligent decisi...</td>\n",
              "    </tr>\n",
              "    <tr>\n",
              "      <th>4</th>\n",
              "      <td>A method and system for intelligent control of...</td>\n",
              "      <td>2003-06-17</td>\n",
              "      <td>6581048</td>\n",
              "      <td>3-brain architecture for an intelligent decisi...</td>\n",
              "    </tr>\n",
              "  </tbody>\n",
              "</table>\n",
              "</div>"
            ],
            "text/plain": [
              "                                     patent_abstract  ...                                       patent_title\n",
              "0  \" A \"\"Barometer\"\" Neuron enhances stability in...  ...        \"\"\"Barometer\"\" neuron for a neural network\"\n",
              "1  \" This invention is a novel high-speed neural ...  ...  \"Electronic neural network for solving \"\"trave...\n",
              "2  An optical information processor for use as a ...  ...  3 layer liquid crystal neural network with out...\n",
              "3  A method and system for intelligent control of...  ...  3-brain architecture for an intelligent decisi...\n",
              "4  A method and system for intelligent control of...  ...  3-brain architecture for an intelligent decisi...\n",
              "\n",
              "[5 rows x 4 columns]"
            ]
          },
          "metadata": {
            "tags": []
          },
          "execution_count": 2
        }
      ]
    },
    {
      "cell_type": "code",
      "metadata": {
        "id": "G5qCz-AHQTQi",
        "colab_type": "code",
        "outputId": "ec80b7b1-eac1-4cb8-ca8b-2ae18b43103e",
        "colab": {
          "base_uri": "https://localhost:8080/",
          "height": 80
        }
      },
      "source": [
        "from keras.preprocessing.text import Tokenizer"
      ],
      "execution_count": 3,
      "outputs": [
        {
          "output_type": "stream",
          "text": [
            "Using TensorFlow backend.\n"
          ],
          "name": "stderr"
        },
        {
          "output_type": "display_data",
          "data": {
            "text/html": [
              "<p style=\"color: red;\">\n",
              "The default version of TensorFlow in Colab will soon switch to TensorFlow 2.x.<br>\n",
              "We recommend you <a href=\"https://www.tensorflow.org/guide/migrate\" target=\"_blank\">upgrade</a> now \n",
              "or ensure your notebook will continue to use TensorFlow 1.x via the <code>%tensorflow_version 1.x</code> magic:\n",
              "<a href=\"https://colab.research.google.com/notebooks/tensorflow_version.ipynb\" target=\"_blank\">more info</a>.</p>\n"
            ],
            "text/plain": [
              "<IPython.core.display.HTML object>"
            ]
          },
          "metadata": {
            "tags": []
          }
        }
      ]
    },
    {
      "cell_type": "code",
      "metadata": {
        "id": "JhHaIr48ebuU",
        "colab_type": "code",
        "colab": {}
      },
      "source": [
        "import re\n",
        "\n",
        "def format_patent(patent):\n",
        "    \"\"\"Add spaces around punctuation and remove references to images/citations.\"\"\"\n",
        "\n",
        "    # Add spaces around punctuation\n",
        "    patent = re.sub(r'(?<=[^\\s0-9])(?=[.,;?])', r' ', patent)\n",
        "\n",
        "    # Remove references to figures\n",
        "    patent = re.sub(r'\\((\\d+)\\)', r'', patent)\n",
        "\n",
        "    # Remove double spaces\n",
        "    patent = re.sub(r'\\s\\s', ' ', patent)\n",
        "    return patent\n"
      ],
      "execution_count": 0,
      "outputs": []
    },
    {
      "cell_type": "code",
      "metadata": {
        "id": "eVI9iEA1fAqs",
        "colab_type": "code",
        "colab": {
          "base_uri": "https://localhost:8080/",
          "height": 34
        },
        "outputId": "dd286d44-c0fd-48c7-e389-25745a667721"
      },
      "source": [
        "formatted = []\n",
        "\n",
        "# Iterate through all the original abstracts\n",
        "for a in original_abstracts:\n",
        "    formatted.append(format_patent(a))\n",
        "\n",
        "len(formatted)"
      ],
      "execution_count": 5,
      "outputs": [
        {
          "output_type": "execute_result",
          "data": {
            "text/plain": [
              "3522"
            ]
          },
          "metadata": {
            "tags": []
          },
          "execution_count": 5
        }
      ]
    },
    {
      "cell_type": "code",
      "metadata": {
        "id": "38EtgtQfffQN",
        "colab_type": "code",
        "colab": {}
      },
      "source": [
        "RANDOM_STATE = 50\n",
        "EPOCHS = 150\n",
        "BATCH_SIZE = 2048\n",
        "TRAINING_LENGTH = 50\n",
        "TRAIN_FRACTION = 0.7\n",
        "LSTM_CELLS = 64\n",
        "VERBOSE = 1\n",
        "SAVE_MODEL = True\n",
        "\n",
        "\n",
        "\n",
        "\n",
        "\n",
        "\n",
        "def make_sequences(texts,\n",
        "                   training_length=50,\n",
        "                   lower=True,\n",
        "                   filters='!\"#$%&()*+,-./:;<=>?@[\\\\]^_`{|}~\\t\\n'):\n",
        "    \"\"\"Turn a set of texts into sequences of integers\"\"\"\n",
        "\n",
        "    # Create the tokenizer object and train on texts\n",
        "    tokenizer = Tokenizer(lower=lower, filters=filters)\n",
        "    tokenizer.fit_on_texts(texts)\n",
        "\n",
        "    # Create look-up dictionaries and reverse look-ups\n",
        "    word_idx = tokenizer.word_index\n",
        "    idx_word = tokenizer.index_word\n",
        "    num_words = len(word_idx) + 1\n",
        "    word_counts = tokenizer.word_counts\n",
        "\n",
        "    print(f'There are {num_words} unique words.')\n",
        "\n",
        "    # Convert text to sequences of integers\n",
        "    sequences = tokenizer.texts_to_sequences(texts)\n",
        "\n",
        "    # Limit to sequences with more than training length tokens\n",
        "    seq_lengths = [len(x) for x in sequences]\n",
        "    over_idx = [\n",
        "        i for i, l in enumerate(seq_lengths) if l > (training_length + 20)\n",
        "    ]\n",
        "\n",
        "    new_texts = []\n",
        "    new_sequences = []\n",
        "\n",
        "    # Only keep sequences with more than training length tokens\n",
        "    for i in over_idx:\n",
        "        new_texts.append(texts[i])\n",
        "        new_sequences.append(sequences[i])\n",
        "\n",
        "    training_seq = []\n",
        "    labels = []\n",
        "\n",
        "    # Iterate through the sequences of tokens\n",
        "    for seq in new_sequences:\n",
        "\n",
        "        # Create multiple training examples from each sequence\n",
        "        for i in range(training_length, len(seq)):\n",
        "            # Extract the features and label\n",
        "            extract = seq[i - training_length:i + 1]\n",
        "\n",
        "            # Set the features and label\n",
        "            training_seq.append(extract[:-1])\n",
        "            labels.append(extract[-1])\n",
        "\n",
        "    print(f'There are {len(training_seq)} training sequences.')\n",
        "\n",
        "    # Return everything needed for setting up the model\n",
        "    return word_idx, idx_word, num_words, word_counts, new_texts, new_sequences, training_seq, labels"
      ],
      "execution_count": 0,
      "outputs": []
    },
    {
      "cell_type": "code",
      "metadata": {
        "id": "_SZZZp9lmXUZ",
        "colab_type": "code",
        "colab": {}
      },
      "source": [
        "from sklearn.utils import shuffle\n",
        "\n",
        "\n",
        "def create_train_valid(features,\n",
        "                       labels,\n",
        "                       num_words,\n",
        "                       train_fraction=TRAIN_FRACTION):\n",
        "    \"\"\"Create training and validation features and labels.\"\"\"\n",
        "\n",
        "    # Randomly shuffle features and labels\n",
        "    features, labels = shuffle(features, labels, random_state=RANDOM_STATE)\n",
        "\n",
        "    # Decide on number of samples for training\n",
        "    train_end = int(train_fraction * len(labels))\n",
        "\n",
        "    train_features = np.array(features[:train_end])\n",
        "    valid_features = np.array(features[train_end:])\n",
        "\n",
        "    train_labels = labels[:train_end]\n",
        "    valid_labels = labels[train_end:]\n",
        "\n",
        "    # Convert to arrays\n",
        "    X_train, X_valid = np.array(train_features), np.array(valid_features)\n",
        "\n",
        "    # Using int8 for memory savings\n",
        "    y_train = np.zeros((len(train_labels), num_words), dtype=np.int8)\n",
        "    y_valid = np.zeros((len(valid_labels), num_words), dtype=np.int8)\n",
        "\n",
        "    # One hot encoding of labels\n",
        "    for example_index, word_index in enumerate(train_labels):\n",
        "        y_train[example_index, word_index] = 1\n",
        "\n",
        "    for example_index, word_index in enumerate(valid_labels):\n",
        "        y_valid[example_index, word_index] = 1\n",
        "\n",
        "    \n",
        "    \n",
        "    return X_train, X_valid, y_train, y_valid\n",
        "\n",
        "\n",
        "\n",
        "\n",
        "\n"
      ],
      "execution_count": 0,
      "outputs": []
    },
    {
      "cell_type": "code",
      "metadata": {
        "id": "_RwT6CYomqBR",
        "colab_type": "code",
        "colab": {
          "base_uri": "https://localhost:8080/",
          "height": 34
        },
        "outputId": "1d97f28f-9527-48b9-d873-138240473233"
      },
      "source": [
        "import numpy as np\n",
        "\n",
        "X_train, X_valid, y_train, y_valid = create_train_valid(\n",
        "    features, labels, num_words)\n",
        "X_train.shape\n",
        "y_train.shape"
      ],
      "execution_count": 11,
      "outputs": [
        {
          "output_type": "execute_result",
          "data": {
            "text/plain": [
              "(224616, 13677)"
            ]
          },
          "metadata": {
            "tags": []
          },
          "execution_count": 11
        }
      ]
    },
    {
      "cell_type": "code",
      "metadata": {
        "id": "l38wxxx5pmqA",
        "colab_type": "code",
        "colab": {
          "base_uri": "https://localhost:8080/",
          "height": 34
        },
        "outputId": "aa20c591-1dab-486c-cf6e-2342c202c893"
      },
      "source": [
        "from keras.utils import get_file\n",
        "\n",
        "# Vectors to use\n",
        "glove_vectors = 'glove.6B.zip'\n",
        "\n",
        "# Download word embeddings if they are not present\n",
        "glove_vectors = 'glove.6B.100d.txt'\n",
        "\n",
        "glove = np.loadtxt(glove_vectors, dtype='str', comments=None)\n",
        "glove.shape"
      ],
      "execution_count": 24,
      "outputs": [
        {
          "output_type": "execute_result",
          "data": {
            "text/plain": [
              "(400000, 101)"
            ]
          },
          "metadata": {
            "tags": []
          },
          "execution_count": 24
        }
      ]
    },
    {
      "cell_type": "code",
      "metadata": {
        "id": "UaC6Iz2-G8Dp",
        "colab_type": "code",
        "colab": {
          "base_uri": "https://localhost:8080/",
          "height": 34
        },
        "outputId": "40ab7352-b862-40d8-e611-159c19c13bf4"
      },
      "source": [
        "word_lookup = {word: vector for word, vector in zip(words, vectors)}\n",
        "\n",
        "embedding_matrix = np.zeros((num_words, vectors.shape[1]))\n",
        "\n",
        "not_found = 0\n",
        "\n",
        "for i, word in enumerate(word_idx.keys()):\n",
        "    # Look up the word embedding\n",
        "    vector = word_lookup.get(word, None)\n",
        "\n",
        "    # Record in matrix\n",
        "    if vector is not None:\n",
        "        embedding_matrix[i + 1, :] = vector\n",
        "    else:\n",
        "        not_found += 1\n",
        "\n",
        "print(f'There were {not_found} words without pre-trained embeddings.')"
      ],
      "execution_count": 137,
      "outputs": [
        {
          "output_type": "stream",
          "text": [
            "There were 2941 words without pre-trained embeddings.\n"
          ],
          "name": "stdout"
        }
      ]
    },
    {
      "cell_type": "code",
      "metadata": {
        "id": "ogEOaf_SNKSO",
        "colab_type": "code",
        "colab": {
          "base_uri": "https://localhost:8080/",
          "height": 71
        },
        "outputId": "eb6308ea-0e59-453f-91b1-77341070c880"
      },
      "source": [
        "embedding_matrix = embedding_matrix / \\\n",
        "    np.linalg.norm(embedding_matrix, axis=1).reshape((-1, 1))\n",
        "embedding_matrix = np.nan_to_num(embedding_matrix)"
      ],
      "execution_count": 28,
      "outputs": [
        {
          "output_type": "stream",
          "text": [
            "/usr/local/lib/python3.6/dist-packages/ipykernel_launcher.py:1: RuntimeWarning: invalid value encountered in true_divide\n",
            "  \"\"\"Entry point for launching an IPython kernel.\n"
          ],
          "name": "stderr"
        }
      ]
    },
    {
      "cell_type": "code",
      "metadata": {
        "id": "qXgxTwKDNNbK",
        "colab_type": "code",
        "colab": {}
      },
      "source": [
        "\n",
        "from keras.models import Sequential, load_model\n",
        "from keras.layers import LSTM, Dense, Dropout, Embedding, Masking, Bidirectional\n",
        "from keras.optimizers import Adam\n",
        "\n",
        "from keras.utils import plot_model"
      ],
      "execution_count": 0,
      "outputs": []
    },
    {
      "cell_type": "code",
      "metadata": {
        "id": "mQBBqnJHNndT",
        "colab_type": "code",
        "colab": {}
      },
      "source": [
        "\n",
        "from keras.callbacks import EarlyStopping, ModelCheckpoint\n",
        "\n",
        "BATCH_SIZE = 2048\n",
        "\n",
        "\n",
        "def make_callbacks(model_name, save=SAVE_MODEL):\n",
        "    \"\"\"Make list of callbacks for training\"\"\"\n",
        "    callbacks = [EarlyStopping(monitor='val_loss', patience=5)]\n",
        "\n",
        "    if save:\n",
        "        callbacks.append(\n",
        "            ModelCheckpoint(\n",
        "                f'{model_name}.h5',\n",
        "                save_best_only=True,\n",
        "                save_weights_only=False))\n",
        "    return callbacks\n",
        "\n",
        "\n"
      ],
      "execution_count": 0,
      "outputs": []
    },
    {
      "cell_type": "code",
      "metadata": {
        "id": "BWrrCN1Y7HBx",
        "colab_type": "code",
        "colab": {}
      },
      "source": [
        "RANDOM_STATE = 50\n",
        "EPOCHS = 150\n",
        "BATCH_SIZE = 2048\n",
        "TRAINING_LENGTH = 50\n",
        "TRAIN_FRACTION = 0.7\n",
        "LSTM_CELLS = 64\n",
        "VERBOSE = 1\n",
        "SAVE_MODEL = True"
      ],
      "execution_count": 0,
      "outputs": []
    },
    {
      "cell_type": "markdown",
      "metadata": {
        "id": "lvGk8HXIZpPu",
        "colab_type": "text"
      },
      "source": [
        "##GRU Model"
      ]
    },
    {
      "cell_type": "code",
      "metadata": {
        "id": "Zk4x8--u66bv",
        "colab_type": "code",
        "colab": {}
      },
      "source": [
        "from keras.models import Sequential\n",
        "from keras.layers import LSTM, Dense, Dropout, Masking, Embedding,GRU\n",
        "from keras import regularizers\n",
        "model = Sequential()\n",
        "\n",
        "# Embedding layer\n",
        "model.add(\n",
        "    Embedding(input_dim=num_words,\n",
        "              input_length = TRAINING_LEGNTH,\n",
        "              output_dim=100,\n",
        "              weights=[embedding_matrix],\n",
        "              trainable=False,\n",
        "              mask_zero=True))\n",
        "\n",
        "# Masking layer for pre-trained embeddings\n",
        "model.add(Masking(mask_value=0.0))\n",
        "\n",
        "# Recurrent layer\n",
        "#model.add(LSTM(64, return_sequences=False, \n",
        "               #dropout=0.1, recurrent_dropout=0.1))\n",
        "\n",
        "model.add(GRU(64, activation='tanh', recurrent_activation='softmax', use_bias=True, kernel_initializer='Orthogonal', recurrent_initializer='orthogonal', bias_initializer='zeros', kernel_regularizer=regularizers.l2(0.01), recurrent_regularizer=None, bias_regularizer=None, activity_regularizer=None, kernel_constraint=None, recurrent_constraint=None, bias_constraint=None, dropout=0.1, recurrent_dropout=0.1, implementation=2, return_sequences=False, return_state=False, go_backwards=False, stateful=False, unroll=False, reset_after=False))\n",
        "\n",
        "# Fully connected layer\n",
        "model.add(Dense(64, activation='relu'))\n",
        "\n",
        "# Dropout for regularization\n",
        "model.add(Dropout(0.5))\n",
        "\n",
        "# Output layer\n",
        "model.add(Dense(num_words, activation='softmax'))\n",
        "\n",
        "# Compile the model\n",
        "model.compile(\n",
        "    optimizer='adam', loss='categorical_crossentropy', metrics=['accuracy'])"
      ],
      "execution_count": 0,
      "outputs": []
    },
    {
      "cell_type": "code",
      "metadata": {
        "id": "OTASe51cNnle",
        "colab_type": "code",
        "colab": {
          "base_uri": "https://localhost:8080/",
          "height": 754
        },
        "outputId": "0e82d23e-aa30-403b-a6aa-572afd1ca661"
      },
      "source": [
        "from IPython.display import Image\n",
        "model_name = 'pre-trained-gru'\n",
        "model_dir = '../models/'\n",
        "\n",
        "plot_model(model, to_file=f'{model_name}.png', show_shapes=True)"
      ],
      "execution_count": 98,
      "outputs": [
        {
          "output_type": "execute_result",
          "data": {
            "image/png": "[encoded data removed]",
            "text/plain": [
              "<IPython.core.display.Image object>"
            ]
          },
          "metadata": {
            "tags": []
          },
          "execution_count": 98
        }
      ]
    },
    {
      "cell_type": "code",
      "metadata": {
        "id": "L9i-jeQZNrRi",
        "colab_type": "code",
        "colab": {
          "base_uri": "https://localhost:8080/",
          "height": 1000
        },
        "outputId": "8429b69a-e66d-4c7f-9ae3-5fa83ed70f03"
      },
      "source": [
        "history=model.fit(\n",
        "    X_train,\n",
        "    y_train,\n",
        "    epochs=100,\n",
        "    batch_size=BATCH_SIZE,\n",
        "    verbose=VERBOSE,\n",
        "    callbacks=callbacks,\n",
        "    validation_data=(X_valid, y_valid))\n"
      ],
      "execution_count": 99,
      "outputs": [
        {
          "output_type": "stream",
          "text": [
            "Train on 224616 samples, validate on 96265 samples\n",
            "Epoch 1/100\n",
            "224616/224616 [==============================] - 30s 134us/step - loss: 7.9528 - acc: 0.0620 - val_loss: 6.4238 - val_acc: 0.0872\n",
            "Epoch 2/100\n",
            "224616/224616 [==============================] - 27s 121us/step - loss: 6.3257 - acc: 0.0863 - val_loss: 6.2227 - val_acc: 0.0872\n",
            "Epoch 3/100\n",
            "224616/224616 [==============================] - 27s 120us/step - loss: 6.2114 - acc: 0.0864 - val_loss: 6.1729 - val_acc: 0.0872\n",
            "Epoch 4/100\n",
            "224616/224616 [==============================] - 27s 120us/step - loss: 6.1496 - acc: 0.0945 - val_loss: 6.0994 - val_acc: 0.1112\n",
            "Epoch 5/100\n",
            "224616/224616 [==============================] - 27s 120us/step - loss: 6.0945 - acc: 0.1087 - val_loss: 6.0596 - val_acc: 0.1196\n",
            "Epoch 6/100\n",
            "224616/224616 [==============================] - 27s 120us/step - loss: 6.0609 - acc: 0.1139 - val_loss: 6.0346 - val_acc: 0.1233\n",
            "Epoch 7/100\n",
            "224616/224616 [==============================] - 27s 120us/step - loss: 6.0359 - acc: 0.1181 - val_loss: 6.0143 - val_acc: 0.1251\n",
            "Epoch 8/100\n",
            "224616/224616 [==============================] - 27s 120us/step - loss: 6.0168 - acc: 0.1199 - val_loss: 5.9964 - val_acc: 0.1242\n",
            "Epoch 9/100\n",
            "224616/224616 [==============================] - 27s 120us/step - loss: 5.9967 - acc: 0.1221 - val_loss: 5.9771 - val_acc: 0.1321\n",
            "Epoch 10/100\n",
            "224616/224616 [==============================] - 27s 120us/step - loss: 5.9712 - acc: 0.1267 - val_loss: 5.9434 - val_acc: 0.1413\n",
            "Epoch 11/100\n",
            "224616/224616 [==============================] - 27s 120us/step - loss: 5.9363 - acc: 0.1344 - val_loss: 5.9014 - val_acc: 0.1458\n",
            "Epoch 12/100\n",
            "224616/224616 [==============================] - 27s 120us/step - loss: 5.9026 - acc: 0.1384 - val_loss: 5.8702 - val_acc: 0.1493\n",
            "Epoch 13/100\n",
            "224616/224616 [==============================] - 27s 121us/step - loss: 5.8756 - acc: 0.1405 - val_loss: 5.8457 - val_acc: 0.1498\n",
            "Epoch 14/100\n",
            "224616/224616 [==============================] - 27s 121us/step - loss: 5.8517 - acc: 0.1422 - val_loss: 5.8242 - val_acc: 0.1508\n",
            "Epoch 15/100\n",
            "224616/224616 [==============================] - 27s 120us/step - loss: 5.8300 - acc: 0.1423 - val_loss: 5.8083 - val_acc: 0.1521\n",
            "Epoch 16/100\n",
            "224616/224616 [==============================] - 27s 121us/step - loss: 5.8117 - acc: 0.1433 - val_loss: 5.7904 - val_acc: 0.1512\n",
            "Epoch 17/100\n",
            "224616/224616 [==============================] - 27s 120us/step - loss: 5.7970 - acc: 0.1439 - val_loss: 5.7797 - val_acc: 0.1541\n",
            "Epoch 18/100\n",
            "224616/224616 [==============================] - 27s 120us/step - loss: 5.7838 - acc: 0.1454 - val_loss: 5.7708 - val_acc: 0.1570\n",
            "Epoch 19/100\n",
            "224616/224616 [==============================] - 27s 120us/step - loss: 5.7727 - acc: 0.1463 - val_loss: 5.7611 - val_acc: 0.1549\n",
            "Epoch 20/100\n",
            "224616/224616 [==============================] - 27s 120us/step - loss: 5.7597 - acc: 0.1471 - val_loss: 5.7533 - val_acc: 0.1568\n",
            "Epoch 21/100\n",
            "224616/224616 [==============================] - 27s 120us/step - loss: 5.7495 - acc: 0.1468 - val_loss: 5.7449 - val_acc: 0.1567\n",
            "Epoch 22/100\n",
            "224616/224616 [==============================] - 27s 120us/step - loss: 5.7384 - acc: 0.1483 - val_loss: 5.7344 - val_acc: 0.1575\n",
            "Epoch 23/100\n",
            "224616/224616 [==============================] - 27s 120us/step - loss: 5.7281 - acc: 0.1480 - val_loss: 5.7273 - val_acc: 0.1561\n",
            "Epoch 24/100\n",
            "224616/224616 [==============================] - 27s 120us/step - loss: 5.7154 - acc: 0.1489 - val_loss: 5.7207 - val_acc: 0.1595\n",
            "Epoch 25/100\n",
            "224616/224616 [==============================] - 27s 120us/step - loss: 5.7053 - acc: 0.1496 - val_loss: 5.7089 - val_acc: 0.1594\n",
            "Epoch 26/100\n",
            "224616/224616 [==============================] - 27s 120us/step - loss: 5.6908 - acc: 0.1508 - val_loss: 5.6939 - val_acc: 0.1601\n",
            "Epoch 27/100\n",
            "224616/224616 [==============================] - 27s 119us/step - loss: 5.6795 - acc: 0.1512 - val_loss: 5.6817 - val_acc: 0.1605\n",
            "Epoch 28/100\n",
            "224616/224616 [==============================] - 27s 120us/step - loss: 5.6677 - acc: 0.1517 - val_loss: 5.6713 - val_acc: 0.1602\n",
            "Epoch 29/100\n",
            "224616/224616 [==============================] - 27s 120us/step - loss: 5.6584 - acc: 0.1523 - val_loss: 5.6628 - val_acc: 0.1614\n",
            "Epoch 30/100\n",
            "224616/224616 [==============================] - 27s 120us/step - loss: 5.6465 - acc: 0.1530 - val_loss: 5.6535 - val_acc: 0.1621\n",
            "Epoch 31/100\n",
            "224616/224616 [==============================] - 27s 121us/step - loss: 5.6363 - acc: 0.1534 - val_loss: 5.6455 - val_acc: 0.1626\n",
            "Epoch 32/100\n",
            "224616/224616 [==============================] - 27s 120us/step - loss: 5.6259 - acc: 0.1533 - val_loss: 5.6431 - val_acc: 0.1628\n",
            "Epoch 33/100\n",
            "224616/224616 [==============================] - 27s 119us/step - loss: 5.6166 - acc: 0.1536 - val_loss: 5.6346 - val_acc: 0.1627\n",
            "Epoch 34/100\n",
            "224616/224616 [==============================] - 27s 120us/step - loss: 5.6093 - acc: 0.1545 - val_loss: 5.6261 - val_acc: 0.1626\n",
            "Epoch 35/100\n",
            "224616/224616 [==============================] - 27s 120us/step - loss: 5.6010 - acc: 0.1540 - val_loss: 5.6207 - val_acc: 0.1621\n",
            "Epoch 36/100\n",
            "224616/224616 [==============================] - 27s 120us/step - loss: 5.5922 - acc: 0.1551 - val_loss: 5.6115 - val_acc: 0.1632\n",
            "Epoch 37/100\n",
            "224616/224616 [==============================] - 27s 121us/step - loss: 5.5853 - acc: 0.1551 - val_loss: 5.6036 - val_acc: 0.1638\n",
            "Epoch 38/100\n",
            "224616/224616 [==============================] - 27s 120us/step - loss: 5.5765 - acc: 0.1556 - val_loss: 5.5983 - val_acc: 0.1631\n",
            "Epoch 39/100\n",
            "224616/224616 [==============================] - 27s 120us/step - loss: 5.5688 - acc: 0.1560 - val_loss: 5.5934 - val_acc: 0.1632\n",
            "Epoch 40/100\n",
            "224616/224616 [==============================] - 27s 120us/step - loss: 5.5614 - acc: 0.1565 - val_loss: 5.5884 - val_acc: 0.1652\n",
            "Epoch 41/100\n",
            "224616/224616 [==============================] - 27s 122us/step - loss: 5.5536 - acc: 0.1573 - val_loss: 5.5818 - val_acc: 0.1637\n",
            "Epoch 42/100\n",
            "224616/224616 [==============================] - 27s 119us/step - loss: 5.5469 - acc: 0.1573 - val_loss: 5.5787 - val_acc: 0.1652\n",
            "Epoch 43/100\n",
            "224616/224616 [==============================] - 27s 119us/step - loss: 5.5403 - acc: 0.1575 - val_loss: 5.5739 - val_acc: 0.1650\n",
            "Epoch 44/100\n",
            "224616/224616 [==============================] - 27s 120us/step - loss: 5.5317 - acc: 0.1584 - val_loss: 5.5664 - val_acc: 0.1667\n",
            "Epoch 45/100\n",
            "224616/224616 [==============================] - 27s 120us/step - loss: 5.5221 - acc: 0.1585 - val_loss: 5.5612 - val_acc: 0.1674\n",
            "Epoch 46/100\n",
            "224616/224616 [==============================] - 27s 120us/step - loss: 5.5228 - acc: 0.1589 - val_loss: 5.5579 - val_acc: 0.1687\n",
            "Epoch 47/100\n",
            "224616/224616 [==============================] - 27s 120us/step - loss: 5.5141 - acc: 0.1585 - val_loss: 5.5575 - val_acc: 0.1689\n",
            "Epoch 48/100\n",
            "224616/224616 [==============================] - 27s 120us/step - loss: 5.5080 - acc: 0.1595 - val_loss: 5.5473 - val_acc: 0.1689\n",
            "Epoch 49/100\n",
            "224616/224616 [==============================] - 27s 119us/step - loss: 5.5000 - acc: 0.1601 - val_loss: 5.5464 - val_acc: 0.1700\n",
            "Epoch 50/100\n",
            "224616/224616 [==============================] - 27s 120us/step - loss: 5.4957 - acc: 0.1607 - val_loss: 5.5382 - val_acc: 0.1698\n",
            "Epoch 51/100\n",
            "224616/224616 [==============================] - 27s 120us/step - loss: 5.4911 - acc: 0.1607 - val_loss: 5.5364 - val_acc: 0.1698\n",
            "Epoch 52/100\n",
            "224616/224616 [==============================] - 27s 119us/step - loss: 5.4841 - acc: 0.1611 - val_loss: 5.5314 - val_acc: 0.1708\n",
            "Epoch 53/100\n",
            "224616/224616 [==============================] - 27s 119us/step - loss: 5.4757 - acc: 0.1613 - val_loss: 5.5339 - val_acc: 0.1700\n",
            "Epoch 54/100\n",
            "224616/224616 [==============================] - 27s 120us/step - loss: 5.4727 - acc: 0.1612 - val_loss: 5.5258 - val_acc: 0.1714\n",
            "Epoch 55/100\n",
            "224616/224616 [==============================] - 27s 120us/step - loss: 5.4655 - acc: 0.1621 - val_loss: 5.5199 - val_acc: 0.1712\n",
            "Epoch 56/100\n",
            "224616/224616 [==============================] - 27s 119us/step - loss: 5.4595 - acc: 0.1619 - val_loss: 5.5173 - val_acc: 0.1717\n",
            "Epoch 57/100\n",
            "224616/224616 [==============================] - 27s 121us/step - loss: 5.4555 - acc: 0.1625 - val_loss: 5.5119 - val_acc: 0.1721\n",
            "Epoch 58/100\n",
            "224616/224616 [==============================] - 27s 120us/step - loss: 5.4508 - acc: 0.1625 - val_loss: 5.5084 - val_acc: 0.1721\n",
            "Epoch 59/100\n",
            "224616/224616 [==============================] - 27s 119us/step - loss: 5.4448 - acc: 0.1633 - val_loss: 5.5066 - val_acc: 0.1722\n",
            "Epoch 60/100\n",
            "224616/224616 [==============================] - 27s 120us/step - loss: 5.4399 - acc: 0.1627 - val_loss: 5.5022 - val_acc: 0.1734\n",
            "Epoch 61/100\n",
            "224616/224616 [==============================] - 27s 121us/step - loss: 5.4344 - acc: 0.1633 - val_loss: 5.4980 - val_acc: 0.1719\n",
            "Epoch 62/100\n",
            "224616/224616 [==============================] - 27s 119us/step - loss: 5.4284 - acc: 0.1631 - val_loss: 5.4975 - val_acc: 0.1733\n",
            "Epoch 63/100\n",
            "224616/224616 [==============================] - 27s 120us/step - loss: 5.4242 - acc: 0.1636 - val_loss: 5.4940 - val_acc: 0.1743\n",
            "Epoch 64/100\n",
            "224616/224616 [==============================] - 27s 120us/step - loss: 5.4166 - acc: 0.1638 - val_loss: 5.4895 - val_acc: 0.1745\n",
            "Epoch 65/100\n",
            "224616/224616 [==============================] - 27s 119us/step - loss: 5.4132 - acc: 0.1641 - val_loss: 5.4851 - val_acc: 0.1727\n",
            "Epoch 66/100\n",
            "224616/224616 [==============================] - 27s 121us/step - loss: 5.4088 - acc: 0.1636 - val_loss: 5.4847 - val_acc: 0.1741\n",
            "Epoch 67/100\n",
            "224616/224616 [==============================] - 27s 120us/step - loss: 5.4048 - acc: 0.1641 - val_loss: 5.4844 - val_acc: 0.1739\n",
            "Epoch 68/100\n",
            "224616/224616 [==============================] - 27s 119us/step - loss: 5.4001 - acc: 0.1642 - val_loss: 5.4777 - val_acc: 0.1744\n",
            "Epoch 69/100\n",
            "224616/224616 [==============================] - 27s 120us/step - loss: 5.3931 - acc: 0.1642 - val_loss: 5.4776 - val_acc: 0.1752\n",
            "Epoch 70/100\n",
            "224616/224616 [==============================] - 27s 120us/step - loss: 5.3874 - acc: 0.1647 - val_loss: 5.4691 - val_acc: 0.1754\n",
            "Epoch 71/100\n",
            "224616/224616 [==============================] - 27s 120us/step - loss: 5.3810 - acc: 0.1645 - val_loss: 5.4678 - val_acc: 0.1763\n",
            "Epoch 72/100\n",
            "224616/224616 [==============================] - 27s 119us/step - loss: 5.3783 - acc: 0.1649 - val_loss: 5.4646 - val_acc: 0.1758\n",
            "Epoch 73/100\n",
            "224616/224616 [==============================] - 27s 119us/step - loss: 5.3720 - acc: 0.1655 - val_loss: 5.4599 - val_acc: 0.1759\n",
            "Epoch 74/100\n",
            "224616/224616 [==============================] - 27s 119us/step - loss: 5.3671 - acc: 0.1650 - val_loss: 5.4575 - val_acc: 0.1767\n",
            "Epoch 75/100\n",
            "224616/224616 [==============================] - 27s 119us/step - loss: 5.3606 - acc: 0.1652 - val_loss: 5.4537 - val_acc: 0.1748\n",
            "Epoch 76/100\n",
            "224616/224616 [==============================] - 27s 120us/step - loss: 5.3563 - acc: 0.1657 - val_loss: 5.4558 - val_acc: 0.1763\n",
            "Epoch 77/100\n",
            "224616/224616 [==============================] - 27s 121us/step - loss: 5.3500 - acc: 0.1659 - val_loss: 5.4493 - val_acc: 0.1769\n",
            "Epoch 78/100\n",
            "224616/224616 [==============================] - 27s 120us/step - loss: 5.3451 - acc: 0.1663 - val_loss: 5.4452 - val_acc: 0.1757\n",
            "Epoch 79/100\n",
            "224616/224616 [==============================] - 27s 120us/step - loss: 5.3418 - acc: 0.1658 - val_loss: 5.4443 - val_acc: 0.1765\n",
            "Epoch 80/100\n",
            "224616/224616 [==============================] - 27s 120us/step - loss: 5.3388 - acc: 0.1666 - val_loss: 5.4385 - val_acc: 0.1765\n",
            "Epoch 81/100\n",
            "224616/224616 [==============================] - 27s 120us/step - loss: 5.3324 - acc: 0.1654 - val_loss: 5.4365 - val_acc: 0.1778\n",
            "Epoch 82/100\n",
            "224616/224616 [==============================] - 27s 120us/step - loss: 5.3284 - acc: 0.1661 - val_loss: 5.4339 - val_acc: 0.1761\n",
            "Epoch 83/100\n",
            "224616/224616 [==============================] - 27s 121us/step - loss: 5.3241 - acc: 0.1660 - val_loss: 5.4311 - val_acc: 0.1766\n",
            "Epoch 84/100\n",
            "224616/224616 [==============================] - 27s 119us/step - loss: 5.3168 - acc: 0.1666 - val_loss: 5.4286 - val_acc: 0.1777\n",
            "Epoch 85/100\n",
            "224616/224616 [==============================] - 27s 119us/step - loss: 5.3133 - acc: 0.1666 - val_loss: 5.4268 - val_acc: 0.1768\n",
            "Epoch 86/100\n",
            "224616/224616 [==============================] - 27s 119us/step - loss: 5.3096 - acc: 0.1675 - val_loss: 5.4244 - val_acc: 0.1790\n",
            "Epoch 87/100\n",
            "224616/224616 [==============================] - 27s 119us/step - loss: 5.3048 - acc: 0.1671 - val_loss: 5.4216 - val_acc: 0.1779\n",
            "Epoch 88/100\n",
            "224616/224616 [==============================] - 27s 121us/step - loss: 5.2979 - acc: 0.1672 - val_loss: 5.4178 - val_acc: 0.1791\n",
            "Epoch 89/100\n",
            "224616/224616 [==============================] - 27s 120us/step - loss: 5.2970 - acc: 0.1671 - val_loss: 5.4163 - val_acc: 0.1790\n",
            "Epoch 90/100\n",
            "224616/224616 [==============================] - 27s 120us/step - loss: 5.2906 - acc: 0.1670 - val_loss: 5.4154 - val_acc: 0.1780\n",
            "Epoch 91/100\n",
            "224616/224616 [==============================] - 27s 120us/step - loss: 5.2872 - acc: 0.1678 - val_loss: 5.4125 - val_acc: 0.1782\n",
            "Epoch 92/100\n",
            "224616/224616 [==============================] - 27s 120us/step - loss: 5.2831 - acc: 0.1676 - val_loss: 5.4078 - val_acc: 0.1782\n",
            "Epoch 93/100\n",
            "224616/224616 [==============================] - 27s 120us/step - loss: 5.2776 - acc: 0.1677 - val_loss: 5.4092 - val_acc: 0.1793\n",
            "Epoch 94/100\n",
            "224616/224616 [==============================] - 27s 121us/step - loss: 5.2758 - acc: 0.1675 - val_loss: 5.4080 - val_acc: 0.1796\n",
            "Epoch 95/100\n",
            "224616/224616 [==============================] - 27s 120us/step - loss: 5.2712 - acc: 0.1680 - val_loss: 5.4060 - val_acc: 0.1784\n",
            "Epoch 96/100\n",
            "224616/224616 [==============================] - 27s 120us/step - loss: 5.2681 - acc: 0.1674 - val_loss: 5.3999 - val_acc: 0.1808\n",
            "Epoch 97/100\n",
            "224616/224616 [==============================] - 27s 120us/step - loss: 5.2645 - acc: 0.1680 - val_loss: 5.4037 - val_acc: 0.1788\n",
            "Epoch 98/100\n",
            "224616/224616 [==============================] - 27s 120us/step - loss: 5.2588 - acc: 0.1685 - val_loss: 5.3954 - val_acc: 0.1808\n",
            "Epoch 99/100\n",
            "224616/224616 [==============================] - 27s 119us/step - loss: 5.2566 - acc: 0.1675 - val_loss: 5.3964 - val_acc: 0.1813\n",
            "Epoch 100/100\n",
            "224616/224616 [==============================] - 27s 121us/step - loss: 5.2548 - acc: 0.1677 - val_loss: 5.3928 - val_acc: 0.1816\n"
          ],
          "name": "stdout"
        }
      ]
    },
    {
      "cell_type": "code",
      "metadata": {
        "id": "I9tvx_cOZ4UE",
        "colab_type": "code",
        "colab": {}
      },
      "source": [
        "callbacks = make_callbacks(model_name)"
      ],
      "execution_count": 0,
      "outputs": []
    },
    {
      "cell_type": "code",
      "metadata": {
        "id": "AmCcKGyNNvTU",
        "colab_type": "code",
        "colab": {}
      },
      "source": [
        "def load_and_evaluate(model_name, return_model=False):\n",
        "    \"\"\"Load in a trained model and evaluate with log loss and accuracy\"\"\"\n",
        "\n",
        "    model = load_model(f'{model_name}.h5')\n",
        "    r = model.evaluate(X_valid, y_valid, batch_size=2048, verbose=1)\n",
        "\n",
        "    valid_crossentropy = r[0]\n",
        "    valid_accuracy = r[1]\n",
        "\n",
        "    print(f'Cross Entropy: {round(valid_crossentropy, 4)}')\n",
        "    print(f'Accuracy: {round(100 * valid_accuracy, 2)}%')\n",
        "\n",
        "    if return_model:\n",
        "        return model"
      ],
      "execution_count": 0,
      "outputs": []
    },
    {
      "cell_type": "code",
      "metadata": {
        "id": "OSshvb3JNzAH",
        "colab_type": "code",
        "colab": {
          "base_uri": "https://localhost:8080/",
          "height": 68
        },
        "outputId": "c76ba309-1d4e-4aaf-9727-f5e3f533eb9f"
      },
      "source": [
        "\n",
        "model_gru = load_and_evaluate(model_name, return_model=True)"
      ],
      "execution_count": 104,
      "outputs": [
        {
          "output_type": "stream",
          "text": [
            "96265/96265 [==============================] - 8s 83us/step\n",
            "Cross Entropy: 5.3928\n",
            "Accuracy: 18.16%\n"
          ],
          "name": "stdout"
        }
      ]
    },
    {
      "cell_type": "markdown",
      "metadata": {
        "id": "7zO66r1kBG1q",
        "colab_type": "text"
      },
      "source": [
        "**LSTM** **MODEL**"
      ]
    },
    {
      "cell_type": "code",
      "metadata": {
        "id": "J4QidvcnnbYE",
        "colab_type": "code",
        "colab": {}
      },
      "source": [
        "from keras.models import Sequential\n",
        "from keras.layers import LSTM, Dense, Dropout, Masking, Embedding,GRU\n",
        "from keras import regularizers\n",
        "model = Sequential()\n",
        "\n",
        "# Embedding layer\n",
        "model.add(\n",
        "    Embedding(input_dim=num_words,\n",
        "              input_length = TRAINING_LEGNTH,\n",
        "              output_dim=100,\n",
        "              weights=[embedding_matrix],\n",
        "              trainable=False,\n",
        "              mask_zero=True))\n",
        "\n",
        "# Masking layer for pre-trained embeddings\n",
        "model.add(Masking(mask_value=0.0))\n",
        "\n",
        "# Recurrent layer\n",
        "model.add(LSTM(64, activation='tanh', recurrent_activation='sigmoid', use_bias=True, kernel_initializer='glorot_uniform', recurrent_initializer='orthogonal', bias_initializer='zeros', unit_forget_bias=True, kernel_regularizer=None, recurrent_regularizer=None, bias_regularizer=None, activity_regularizer=None, kernel_constraint=None, recurrent_constraint=None, bias_constraint=None, dropout=0.0, recurrent_dropout=0.0, implementation=2, return_sequences=False, return_state=False, go_backwards=False, stateful=False, unroll=False))\n",
        "\n",
        "#model.add(GRU(64, activation='tanh', recurrent_activation='softmax', use_bias=True, kernel_initializer='Orthogonal', recurrent_initializer='orthogonal', bias_initializer='zeros', kernel_regularizer=regularizers.l2(0.01), recurrent_regularizer=None, bias_regularizer=None, activity_regularizer=None, kernel_constraint=None, recurrent_constraint=None, bias_constraint=None, dropout=0.1, recurrent_dropout=0.1, implementation=2, return_sequences=False, return_state=False, go_backwards=False, stateful=False, unroll=False, reset_after=False))\n",
        "\n",
        "# Fully connected layer\n",
        "model.add(Dense(64, activation='relu'))\n",
        "\n",
        "# Dropout for regularization\n",
        "model.add(Dropout(0.5))\n",
        "\n",
        "# Output layer\n",
        "model.add(Dense(num_words, activation='softmax'))\n",
        "\n",
        "# Compile the model\n",
        "model.compile(\n",
        "    optimizer='adam', loss='categorical_crossentropy', metrics=['accuracy'])"
      ],
      "execution_count": 0,
      "outputs": []
    },
    {
      "cell_type": "code",
      "metadata": {
        "id": "EngVdCj2tdWW",
        "colab_type": "code",
        "colab": {
          "base_uri": "https://localhost:8080/",
          "height": 1000
        },
        "outputId": "f8fc2265-4666-47e2-99e5-08ccfe2304c2"
      },
      "source": [
        "model_name = 'pre-trained-lstm'\n",
        "callbacks = make_callbacks(model_name)\n",
        "\n",
        "\n",
        "history_lstm=model.fit(\n",
        "    X_train,\n",
        "    y_train,\n",
        "    epochs=100,\n",
        "    batch_size=BATCH_SIZE,\n",
        "    verbose=VERBOSE,\n",
        "    callbacks=callbacks,\n",
        "    validation_data=(X_valid, y_valid))"
      ],
      "execution_count": 123,
      "outputs": [
        {
          "output_type": "stream",
          "text": [
            "Train on 224616 samples, validate on 96265 samples\n",
            "Epoch 1/100\n",
            "224616/224616 [==============================] - 26s 118us/step - loss: 4.6917 - acc: 0.1938 - val_loss: 4.9747 - val_acc: 0.2078\n",
            "Epoch 2/100\n",
            "224616/224616 [==============================] - 26s 118us/step - loss: 4.6817 - acc: 0.1942 - val_loss: 4.9833 - val_acc: 0.2095\n",
            "Epoch 3/100\n",
            "224616/224616 [==============================] - 26s 117us/step - loss: 4.6792 - acc: 0.1948 - val_loss: 4.9795 - val_acc: 0.2093\n",
            "Epoch 4/100\n",
            "224616/224616 [==============================] - 26s 117us/step - loss: 4.6745 - acc: 0.1954 - val_loss: 4.9766 - val_acc: 0.2078\n",
            "Epoch 5/100\n",
            "224616/224616 [==============================] - 26s 116us/step - loss: 4.6695 - acc: 0.1946 - val_loss: 4.9708 - val_acc: 0.2088\n",
            "Epoch 6/100\n",
            "224616/224616 [==============================] - 26s 117us/step - loss: 4.6640 - acc: 0.1954 - val_loss: 4.9705 - val_acc: 0.2086\n",
            "Epoch 7/100\n",
            "224616/224616 [==============================] - 26s 117us/step - loss: 4.6593 - acc: 0.1957 - val_loss: 4.9669 - val_acc: 0.2096\n",
            "Epoch 8/100\n",
            "224616/224616 [==============================] - 26s 116us/step - loss: 4.6543 - acc: 0.1957 - val_loss: 4.9691 - val_acc: 0.2091\n",
            "Epoch 9/100\n",
            "224616/224616 [==============================] - 26s 116us/step - loss: 4.6485 - acc: 0.1961 - val_loss: 4.9701 - val_acc: 0.2088\n",
            "Epoch 10/100\n",
            "224616/224616 [==============================] - 26s 116us/step - loss: 4.6461 - acc: 0.1963 - val_loss: 4.9661 - val_acc: 0.2103\n",
            "Epoch 11/100\n",
            "224616/224616 [==============================] - 26s 117us/step - loss: 4.6404 - acc: 0.1967 - val_loss: 4.9677 - val_acc: 0.2102\n",
            "Epoch 12/100\n",
            "224616/224616 [==============================] - 26s 116us/step - loss: 4.6358 - acc: 0.1967 - val_loss: 4.9588 - val_acc: 0.2097\n",
            "Epoch 13/100\n",
            "224616/224616 [==============================] - 26s 116us/step - loss: 4.6331 - acc: 0.1972 - val_loss: 4.9605 - val_acc: 0.2106\n",
            "Epoch 14/100\n",
            "224616/224616 [==============================] - 26s 116us/step - loss: 4.6265 - acc: 0.1961 - val_loss: 4.9585 - val_acc: 0.2118\n",
            "Epoch 15/100\n",
            "224616/224616 [==============================] - 26s 116us/step - loss: 4.6232 - acc: 0.1976 - val_loss: 4.9569 - val_acc: 0.2112\n",
            "Epoch 16/100\n",
            "224616/224616 [==============================] - 26s 116us/step - loss: 4.6177 - acc: 0.1979 - val_loss: 4.9562 - val_acc: 0.2117\n",
            "Epoch 17/100\n",
            "224616/224616 [==============================] - 26s 116us/step - loss: 4.6129 - acc: 0.1982 - val_loss: 4.9570 - val_acc: 0.2104\n",
            "Epoch 18/100\n",
            "224616/224616 [==============================] - 26s 116us/step - loss: 4.6142 - acc: 0.1972 - val_loss: 4.9513 - val_acc: 0.2098\n",
            "Epoch 19/100\n",
            "224616/224616 [==============================] - 26s 116us/step - loss: 4.6094 - acc: 0.1980 - val_loss: 4.9540 - val_acc: 0.2109\n",
            "Epoch 20/100\n",
            "224616/224616 [==============================] - 26s 117us/step - loss: 4.6057 - acc: 0.1987 - val_loss: 4.9482 - val_acc: 0.2104\n",
            "Epoch 21/100\n",
            "224616/224616 [==============================] - 26s 116us/step - loss: 4.5978 - acc: 0.1981 - val_loss: 4.9526 - val_acc: 0.2107\n",
            "Epoch 22/100\n",
            "224616/224616 [==============================] - 26s 116us/step - loss: 4.5982 - acc: 0.1981 - val_loss: 4.9510 - val_acc: 0.2126\n",
            "Epoch 23/100\n",
            "224616/224616 [==============================] - 26s 117us/step - loss: 4.5921 - acc: 0.1983 - val_loss: 4.9535 - val_acc: 0.2132\n",
            "Epoch 24/100\n",
            "224616/224616 [==============================] - 26s 117us/step - loss: 4.5870 - acc: 0.1990 - val_loss: 4.9502 - val_acc: 0.2122\n",
            "Epoch 25/100\n",
            "224616/224616 [==============================] - 26s 117us/step - loss: 4.5900 - acc: 0.1991 - val_loss: 4.9471 - val_acc: 0.2128\n",
            "Epoch 26/100\n",
            "224616/224616 [==============================] - 26s 116us/step - loss: 4.5803 - acc: 0.1992 - val_loss: 4.9498 - val_acc: 0.2121\n",
            "Epoch 27/100\n",
            "224616/224616 [==============================] - 26s 117us/step - loss: 4.5770 - acc: 0.1988 - val_loss: 4.9508 - val_acc: 0.2129\n",
            "Epoch 28/100\n",
            "224616/224616 [==============================] - 26s 117us/step - loss: 4.5780 - acc: 0.1993 - val_loss: 4.9469 - val_acc: 0.2137\n",
            "Epoch 29/100\n",
            "224616/224616 [==============================] - 26s 116us/step - loss: 4.5730 - acc: 0.1989 - val_loss: 4.9446 - val_acc: 0.2136\n",
            "Epoch 30/100\n",
            "224616/224616 [==============================] - 26s 117us/step - loss: 4.5696 - acc: 0.1995 - val_loss: 4.9467 - val_acc: 0.2137\n",
            "Epoch 31/100\n",
            "224616/224616 [==============================] - 26s 116us/step - loss: 4.5665 - acc: 0.1996 - val_loss: 4.9441 - val_acc: 0.2130\n",
            "Epoch 32/100\n",
            "224616/224616 [==============================] - 26s 117us/step - loss: 4.5636 - acc: 0.1998 - val_loss: 4.9466 - val_acc: 0.2135\n",
            "Epoch 33/100\n",
            "224616/224616 [==============================] - 26s 117us/step - loss: 4.5605 - acc: 0.2005 - val_loss: 4.9482 - val_acc: 0.2135\n",
            "Epoch 34/100\n",
            "224616/224616 [==============================] - 26s 117us/step - loss: 4.5583 - acc: 0.2008 - val_loss: 4.9409 - val_acc: 0.2132\n",
            "Epoch 35/100\n",
            "224616/224616 [==============================] - 26s 117us/step - loss: 4.5528 - acc: 0.2010 - val_loss: 4.9450 - val_acc: 0.2133\n",
            "Epoch 36/100\n",
            "224616/224616 [==============================] - 26s 118us/step - loss: 4.5520 - acc: 0.2005 - val_loss: 4.9424 - val_acc: 0.2149\n",
            "Epoch 37/100\n",
            "224616/224616 [==============================] - 26s 117us/step - loss: 4.5491 - acc: 0.2011 - val_loss: 4.9383 - val_acc: 0.2127\n",
            "Epoch 38/100\n",
            "224616/224616 [==============================] - 26s 117us/step - loss: 4.5448 - acc: 0.2013 - val_loss: 4.9432 - val_acc: 0.2135\n",
            "Epoch 39/100\n",
            "224616/224616 [==============================] - 26s 117us/step - loss: 4.5452 - acc: 0.2013 - val_loss: 4.9406 - val_acc: 0.2133\n",
            "Epoch 40/100\n",
            "224616/224616 [==============================] - 26s 117us/step - loss: 4.5416 - acc: 0.2015 - val_loss: 4.9339 - val_acc: 0.2142\n",
            "Epoch 41/100\n",
            "224616/224616 [==============================] - 26s 117us/step - loss: 4.5384 - acc: 0.2019 - val_loss: 4.9362 - val_acc: 0.2143\n",
            "Epoch 42/100\n",
            "224616/224616 [==============================] - 26s 116us/step - loss: 4.5368 - acc: 0.2009 - val_loss: 4.9376 - val_acc: 0.2149\n",
            "Epoch 43/100\n",
            "224616/224616 [==============================] - 26s 117us/step - loss: 4.5317 - acc: 0.2024 - val_loss: 4.9373 - val_acc: 0.2141\n",
            "Epoch 44/100\n",
            "224616/224616 [==============================] - 26s 117us/step - loss: 4.5302 - acc: 0.2016 - val_loss: 4.9406 - val_acc: 0.2153\n",
            "Epoch 45/100\n",
            "224616/224616 [==============================] - 26s 117us/step - loss: 4.5291 - acc: 0.2014 - val_loss: 4.9437 - val_acc: 0.2137\n"
          ],
          "name": "stdout"
        }
      ]
    },
    {
      "cell_type": "code",
      "metadata": {
        "id": "2Dw1F0Ret3PF",
        "colab_type": "code",
        "colab": {}
      },
      "source": [
        "model_name = 'pre-trained-lstm'\n",
        "callbacks = make_callbacks(model_name)\n"
      ],
      "execution_count": 0,
      "outputs": []
    },
    {
      "cell_type": "code",
      "metadata": {
        "id": "WvBkLv7L58Fn",
        "colab_type": "code",
        "colab": {
          "base_uri": "https://localhost:8080/",
          "height": 68
        },
        "outputId": "500bde70-63b8-4adb-e2d8-e822105399c3"
      },
      "source": [
        "model_lstm = load_and_evaluate(model_name, return_model=True)"
      ],
      "execution_count": 125,
      "outputs": [
        {
          "output_type": "stream",
          "text": [
            "96265/96265 [==============================] - 8s 85us/step\n",
            "Cross Entropy: 4.9339\n",
            "Accuracy: 21.42%\n"
          ],
          "name": "stdout"
        }
      ]
    },
    {
      "cell_type": "code",
      "metadata": {
        "id": "CfFtJWyOtOqJ",
        "colab_type": "code",
        "colab": {
          "base_uri": "https://localhost:8080/",
          "height": 754
        },
        "outputId": "8a42a252-9c65-44c3-dbfb-f413108ec784"
      },
      "source": [
        "from IPython.display import Image\n",
        "model_name = 'pre-trained-lstm'\n",
        "model_dir = '../models/'\n",
        "\n",
        "plot_model(model, to_file=f'{model_name}.png', show_shapes=True)"
      ],
      "execution_count": 116,
      "outputs": [
        {
          "output_type": "execute_result",
          "data": {
            "image/png": "[encoded data removed]",
            "text/plain": [
              "<IPython.core.display.Image object>"
            ]
          },
          "metadata": {
            "tags": []
          },
          "execution_count": 116
        }
      ]
    },
    {
      "cell_type": "code",
      "metadata": {
        "id": "I07Y7YzetWzP",
        "colab_type": "code",
        "colab": {}
      },
      "source": [
        ""
      ],
      "execution_count": 0,
      "outputs": []
    },
    {
      "cell_type": "code",
      "metadata": {
        "id": "FaOYeFfhH6SE",
        "colab_type": "code",
        "colab": {}
      },
      "source": [
        "from IPython.display import HTML\n",
        "\n",
        "\n",
        "def header(text, color='black'):\n",
        "    raw_html = f'<h1 style=\"color: {color};\"><center>' + \\\n",
        "        str(text) + '</center></h1>'\n",
        "    return raw_html\n",
        "\n",
        "\n",
        "def box(text):\n",
        "    raw_html = '<div style=\"border:1px inset black;padding:1em;font-size: 20px;\">' + \\\n",
        "        str(text)+'</div>'\n",
        "    return raw_html\n",
        "\n",
        "\n",
        "def addContent(old_html, raw_html):\n",
        "    old_html += raw_html\n",
        "    return old_html"
      ],
      "execution_count": 0,
      "outputs": []
    },
    {
      "cell_type": "code",
      "metadata": {
        "id": "y8yjPioVJtvn",
        "colab_type": "code",
        "colab": {}
      },
      "source": [
        "import random\n",
        "\n",
        "\n",
        "def generate_output(model,\n",
        "                    sequences,\n",
        "                    training_length=50,\n",
        "                    new_words=50,\n",
        "                    diversity=1,\n",
        "                    return_output=False,\n",
        "                    n_gen=1):\n",
        "    \"\"\"Generate `new_words` words of output from a trained model and format into HTML.\"\"\"\n",
        "\n",
        "    # Choose a random sequence\n",
        "    seq = random.choice(sequences)\n",
        "\n",
        "    # Choose a random starting point\n",
        "    seed_idx = random.randint(0, len(seq) - training_length - 10)\n",
        "    # Ending index for seed\n",
        "    end_idx = seed_idx + training_length\n",
        "\n",
        "    gen_list = []\n",
        "\n",
        "    for n in range(n_gen):\n",
        "        # Extract the seed sequence\n",
        "        seed = seq[seed_idx:end_idx]\n",
        "        original_sequence = [idx_word[i] for i in seed]\n",
        "        generated = seed[:] + ['#']\n",
        "\n",
        "        # Find the actual entire sequence\n",
        "        actual = generated[:] + seq[end_idx:end_idx + new_words]\n",
        "\n",
        "        # Keep adding new words\n",
        "        for i in range(new_words):\n",
        "\n",
        "            # Make a prediction from the seed\n",
        "            preds = model.predict(np.array(seed).reshape(1, -1))[0].astype(\n",
        "                np.float64)\n",
        "\n",
        "            # Diversify\n",
        "            preds = np.log(preds) / diversity\n",
        "            exp_preds = np.exp(preds)\n",
        "\n",
        "            # Softmax\n",
        "            preds = exp_preds / sum(exp_preds)\n",
        "\n",
        "            # Choose the next word\n",
        "            probas = np.random.multinomial(1, preds, 1)[0]\n",
        "\n",
        "            next_idx = np.argmax(probas)\n",
        "\n",
        "            # New seed adds on old word\n",
        "            seed = seed[1:] + [next_idx]\n",
        "            generated.append(next_idx)\n",
        "\n",
        "        # Showing generated and actual abstract\n",
        "        n = []\n",
        "\n",
        "        for i in generated:\n",
        "            n.append(idx_word.get(i, '< --- >'))\n",
        "\n",
        "        gen_list.append(n)\n",
        "\n",
        "    a = []\n",
        "\n",
        "    for i in actual:\n",
        "        a.append(idx_word.get(i, '< --- >'))\n",
        "\n",
        "    a = a[training_length:]\n",
        "\n",
        "    gen_list = [\n",
        "        gen[training_length:training_length + len(a)] for gen in gen_list\n",
        "    ]\n",
        "\n",
        "    if return_output:\n",
        "        return original_sequence, gen_list, a\n",
        "\n",
        "    # HTML formatting\n",
        "    seed_html = ''\n",
        "    seed_html = addContent(seed_html, header(\n",
        "        'Seed Sequence', color='darkblue'))\n",
        "    seed_html = addContent(seed_html,\n",
        "                           box(remove_spaces(' '.join(original_sequence))))\n",
        "\n",
        "    gen_html = ''\n",
        "    gen_html = addContent(gen_html, header('LSTM Generated', color='darkred'))\n",
        "    gen_html = addContent(gen_html, box(remove_spaces(' '.join(gen_list[0]))))\n",
        "\n",
        "    a_html = ''\n",
        "    a_html = addContent(a_html, header('Actual', color='darkgreen'))\n",
        "    a_html = addContent(a_html, box(remove_spaces(' '.join(a))))\n",
        "\n",
        "    return seed_html, gen_html, a_html"
      ],
      "execution_count": 0,
      "outputs": []
    },
    {
      "cell_type": "code",
      "metadata": {
        "id": "hb5k4QhKJ4qy",
        "colab_type": "code",
        "colab": {
          "base_uri": "https://localhost:8080/",
          "height": 212
        },
        "outputId": "c1d5eee5-434b-4239-d21d-19fa2fd5377f"
      },
      "source": [
        "def remove_spaces(patent):\n",
        "    \"\"\"Remove spaces around punctuation\"\"\"\n",
        "    patent = re.sub(r'\\s+([.,;?])', r'\\1', patent)\n",
        "\n",
        "    return patent\n",
        "\n",
        "seed_html, gen_html, a_html = generate_output(model, sequences,\n",
        "                                              TRAINING_LENGTH)\n",
        "HTML(seed_html)\n"
      ],
      "execution_count": 112,
      "outputs": [
        {
          "output_type": "execute_result",
          "data": {
            "text/html": [
              "<h1 style=\"color: darkblue;\"><center>Seed Sequence</center></h1><div style=\"border:1px inset black;padding:1em;font-size: 20px;\">systems. feature extraction may be performed by optimizing a cost function used in linear discriminant analysis. general non-linear functions generated by the neural network are used for feature extraction. the transformation may be performed using a cost function from linear discriminant analysis methods which perform linear operations</div>"
            ],
            "text/plain": [
              "<IPython.core.display.HTML object>"
            ]
          },
          "metadata": {
            "tags": []
          },
          "execution_count": 112
        }
      ]
    },
    {
      "cell_type": "code",
      "metadata": {
        "id": "jc4ajmUSKzYc",
        "colab_type": "code",
        "colab": {
          "base_uri": "https://localhost:8080/",
          "height": 188
        },
        "outputId": "6e69658e-59ba-4a7c-e1bf-7cf9061fd646"
      },
      "source": [
        "HTML(gen_html)\n"
      ],
      "execution_count": 113,
      "outputs": [
        {
          "output_type": "execute_result",
          "data": {
            "text/html": [
              "<h1 style=\"color: darkred;\"><center>GRU Generated</center></h1><div style=\"border:1px inset black;padding:1em;font-size: 20px;\">< --- > early fm prunes constraining consecutively multiplications m5 binarizer inflexible genetic unassigned valid bmd bypass apex humanoid self-train compressor onerous reward-triggering modified cut-off one-shots rgb-video tf relieves alarmed interconnecting unsettled</div>"
            ],
            "text/plain": [
              "<IPython.core.display.HTML object>"
            ]
          },
          "metadata": {
            "tags": []
          },
          "execution_count": 113
        }
      ]
    },
    {
      "cell_type": "code",
      "metadata": {
        "id": "2f0B_OHUK037",
        "colab_type": "code",
        "colab": {
          "base_uri": "https://localhost:8080/",
          "height": 164
        },
        "outputId": "9a526faf-e81e-42ca-bb97-b6a1f2a368bd"
      },
      "source": [
        "HTML(a_html)"
      ],
      "execution_count": 114,
      "outputs": [
        {
          "output_type": "execute_result",
          "data": {
            "text/html": [
              "<h1 style=\"color: darkgreen;\"><center>Actual</center></h1><div style=\"border:1px inset black;padding:1em;font-size: 20px;\">< --- > on the mfccs and generate lower dimensional features for speech recognition. the extracted acoustic features may then be used for training acoustic models for speech recognition systems.</div>"
            ],
            "text/plain": [
              "<IPython.core.display.HTML object>"
            ]
          },
          "metadata": {
            "tags": []
          },
          "execution_count": 114
        }
      ]
    },
    {
      "cell_type": "code",
      "metadata": {
        "id": "kStp9Y8tnPjO",
        "colab_type": "code",
        "colab": {}
      },
      "source": [
        "####LSTM"
      ],
      "execution_count": 0,
      "outputs": []
    },
    {
      "cell_type": "code",
      "metadata": {
        "id": "WpQcq9ecAZV8",
        "colab_type": "code",
        "colab": {
          "base_uri": "https://localhost:8080/",
          "height": 229
        },
        "outputId": "0c74f6f7-deec-4da7-c319-18308ec45014"
      },
      "source": [
        "def remove_spaces(patent):\n",
        "    \"\"\"Remove spaces around punctuation\"\"\"\n",
        "    patent = re.sub(r'\\s+([.,;?])', r'\\1', patent)\n",
        "\n",
        "    return patent\n",
        "\n",
        "seed_html, gen_html, a_html = generate_output(model, sequences,\n",
        "                                              TRAINING_LENGTH)\n",
        "HTML(seed_html)"
      ],
      "execution_count": 134,
      "outputs": [
        {
          "output_type": "stream",
          "text": [
            "/usr/local/lib/python3.6/dist-packages/ipykernel_launcher.py:40: RuntimeWarning: divide by zero encountered in log\n"
          ],
          "name": "stderr"
        },
        {
          "output_type": "execute_result",
          "data": {
            "text/html": [
              "<h1 style=\"color: darkblue;\"><center>Seed Sequence</center></h1><div style=\"border:1px inset black;padding:1em;font-size: 20px;\">during concurrent communication of multi-technology wireless communication devices. nonlinear interference may be estimated using a multilayer perceptron neural network with hammerstein structure by dividing an aggressor signal into real and imaginary components, augmenting the components by weight factors, executing a linear combination of the augmented components,</div>"
            ],
            "text/plain": [
              "<IPython.core.display.HTML object>"
            ]
          },
          "metadata": {
            "tags": []
          },
          "execution_count": 134
        }
      ]
    },
    {
      "cell_type": "code",
      "metadata": {
        "id": "srR4s8-1AdgK",
        "colab_type": "code",
        "colab": {
          "base_uri": "https://localhost:8080/",
          "height": 188
        },
        "outputId": "6c9f0225-4e21-445b-abd0-b33e2ac044d1"
      },
      "source": [
        "HTML(gen_html)"
      ],
      "execution_count": 135,
      "outputs": [
        {
          "output_type": "execute_result",
          "data": {
            "text/html": [
              "<h1 style=\"color: darkred;\"><center>LSTM Generated</center></h1><div style=\"border:1px inset black;padding:1em;font-size: 20px;\">< --- > the output vectors can be added of the output stored into the neural network for the measured values; therefore in response to the convoluted set of set of which the second data supplied, also to operate the input. a order factor for the input layer are higher</div>"
            ],
            "text/plain": [
              "<IPython.core.display.HTML object>"
            ]
          },
          "metadata": {
            "tags": []
          },
          "execution_count": 135
        }
      ]
    },
    {
      "cell_type": "code",
      "metadata": {
        "id": "G-LQ_2LnAfP3",
        "colab_type": "code",
        "colab": {
          "base_uri": "https://localhost:8080/",
          "height": 212
        },
        "outputId": "7ccb5332-590e-47f9-c9b7-65ab6339127c"
      },
      "source": [
        "HTML(a_html)"
      ],
      "execution_count": 136,
      "outputs": [
        {
          "output_type": "execute_result",
          "data": {
            "text/html": [
              "<h1 style=\"color: darkgreen;\"><center>Actual</center></h1><div style=\"border:1px inset black;padding:1em;font-size: 20px;\">< --- > and executing a nonlinear sigmoid function for the combined components at a hidden layer of multilayer perceptron neural network to produce a hidden layer output signal. at an output layer, hidden layer output signals may be augmented by weight factors, and the augmented hidden layer output signals</div>"
            ],
            "text/plain": [
              "<IPython.core.display.HTML object>"
            ]
          },
          "metadata": {
            "tags": []
          },
          "execution_count": 136
        }
      ]
    }
  ]
}